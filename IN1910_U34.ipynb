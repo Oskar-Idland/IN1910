{
 "cells": [
  {
   "cell_type": "markdown",
   "metadata": {},
   "source": [
    "# Week 34 (1)"
   ]
  },
  {
   "cell_type": "markdown",
   "metadata": {},
   "source": [
    "## Exercises"
   ]
  },
  {
   "cell_type": "markdown",
   "metadata": {},
   "source": [
    "### Exercise 1 — Less than \n",
    "Write a function less_than(original, n) that takes a list of integers (original) and a number , and returns a new list of the elements in the original list that were smaller than . Your function should use a list comprehension to do this. Write a few simple tests of your function."
   ]
  },
  {
   "cell_type": "code",
   "execution_count": 2,
   "metadata": {},
   "outputs": [
    {
     "name": "stdout",
     "output_type": "stream",
     "text": [
      "[1, 2, 3]\n"
     ]
    }
   ],
   "source": [
    "def less_than(original,n):\n",
    "    lesser_list = []\n",
    "    for x in original:\n",
    "        if x < n:\n",
    "            lesser_list.append(x)\n",
    "    return lesser_list\n",
    "\n",
    "original = [1,2,3,4,5]\n",
    "n = 4\n",
    "print(less_than(original,n))"
   ]
  },
  {
   "cell_type": "markdown",
   "metadata": {},
   "source": [
    "### Exercise 2 — A deck of cards\n",
    "A normal playing card is identified by its value and its suit. Let a card be represented as a tuple of the value and the suit, where the value should be an integer between 1 and 13, and the suit by a single letter. For example, (12, 'C') would represent the queen of clubs.\n",
    "\n",
    "Use nested loops to create a list that contains a normal deck of 52 playing cards.\n",
    "\n",
    "Use random.shuffle to shuffle the deck.\n",
    "\n",
    "After shuffling, draw 13 cards from the deck.\n",
    "\n",
    "Sort and print the drawn cards out so that they are separated by suit, and shown in increasing value within each suit.\n",
    "\n"
   ]
  },
  {
   "cell_type": "code",
   "execution_count": 32,
   "metadata": {},
   "outputs": [
    {
     "name": "stdout",
     "output_type": "stream",
     "text": [
      "[(1, 'Clubs'), (2, 'Clubs'), (6, 'Clubs'), (10, 'Clubs'), (1, 'Diamonds'), (6, 'Diamonds'), (8, 'Diamonds'), (12, 'Diamonds'), (9, 'Hearts'), (3, 'Spades'), (4, 'Spades'), (6, 'Spades'), (10, 'Spades')]\n",
      "\n",
      "[(1, 'Clubs'), (2, 'Clubs'), (6, 'Clubs'), (10, 'Clubs'), (1, 'Diamonds'), (6, 'Diamonds'), (8, 'Diamonds'), (12, 'Diamonds'), (9, 'Hearts'), (3, 'Spades'), (4, 'Spades'), (6, 'Spades'), (10, 'Spades')]\n"
     ]
    }
   ],
   "source": [
    "import random\n",
    "from operator import itemgetter\n",
    "suits = ['Hearts','Diamonds','Clubs','Spades']\n",
    "values = [i for i in range(1,14)]\n",
    "deck = []\n",
    "for suit in suits:\n",
    "    for value in values:\n",
    "        deck.append((value,suit))\n",
    "        \n",
    "random.shuffle(deck)\n",
    "print(sorted(sorted(deck[0:13], key = lambda card: card[0]), key = lambda card: card[1]))\n",
    "print('')\n",
    "print(sorted(deck[0:13], key = itemgetter(1,0)))"
   ]
  },
  {
   "cell_type": "markdown",
   "metadata": {},
   "source": [
    "### Exercise 3 — Letter Counts\n",
    "\n",
    "Write a function count_chars that takes a string as input, and counts the number of times each character appears in the string. Case should be ignored, so that both A and a count as the same letter. The resulting counts should be returned as a dictionary.\\\n",
    "\n",
    "Hint 1: Case can be ignored by converting the input to lowercase before analyzing it.\\\n",
    "\n",
    "Hint 2: You can loop over the characters of a string\\\n",
    "\n",
    "Test your function using the following test-block:\n"
   ]
  },
  {
   "cell_type": "code",
   "execution_count": null,
   "metadata": {},
   "outputs": [],
   "source": [
    "example = \"Hello, world!\"\n",
    "for char, count in count_chars(example).items():\n",
    "    print(f'{char:3}{count:10}')"
   ]
  },
  {
   "cell_type": "code",
   "execution_count": null,
   "metadata": {},
   "outputs": [],
   "source": []
  }
 ],
 "metadata": {
  "kernelspec": {
   "display_name": "Python 3",
   "language": "python",
   "name": "python3"
  },
  "language_info": {
   "codemirror_mode": {
    "name": "ipython",
    "version": 3
   },
   "file_extension": ".py",
   "mimetype": "text/x-python",
   "name": "python",
   "nbconvert_exporter": "python",
   "pygments_lexer": "ipython3",
   "version": "3.8.3"
  }
 },
 "nbformat": 4,
 "nbformat_minor": 4
}
