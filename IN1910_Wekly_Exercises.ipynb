{
 "cells": [
  {
   "cell_type": "markdown",
   "metadata": {
    "tags": []
   },
   "source": [
    "# Week 34 (1)"
   ]
  },
  {
   "cell_type": "markdown",
   "metadata": {},
   "source": [
    "### Exercise 1 — Less than \n",
    "Write a function less_than(original, n) that takes a list of integers (original) and a number , and returns a new list of the elements in the original list that were smaller than . Your function should use a list comprehension to do this. Write a few simple tests of your function."
   ]
  },
  {
   "cell_type": "code",
   "execution_count": 2,
   "metadata": {},
   "outputs": [
    {
     "name": "stdout",
     "output_type": "stream",
     "text": [
      "[1, 2, 3]\n"
     ]
    }
   ],
   "source": [
    "def less_than(original,n):\n",
    "    lesser_list = []\n",
    "    for x in original:\n",
    "        if x < n:\n",
    "            lesser_list.append(x)\n",
    "    return lesser_list\n",
    "\n",
    "original = [1,2,3,4,5]\n",
    "n = 4\n",
    "print(less_than(original,n))"
   ]
  },
  {
   "cell_type": "markdown",
   "metadata": {},
   "source": [
    "### Exercise 2 — A deck of cards\n",
    "A normal playing card is identified by its value and its suit. Let a card be represented as a tuple of the value and the suit, where the value should be an integer between 1 and 13, and the suit by a single letter. For example, (12, 'C') would represent the queen of clubs.\n",
    "\n",
    "Use nested loops to create a list that contains a normal deck of 52 playing cards.\n",
    "\n",
    "Use random.shuffle to shuffle the deck.\n",
    "\n",
    "After shuffling, draw 13 cards from the deck.\n",
    "\n",
    "Sort and print the drawn cards out so that they are separated by suit, and shown in increasing value within each suit.\n",
    "\n"
   ]
  },
  {
   "cell_type": "code",
   "execution_count": 32,
   "metadata": {},
   "outputs": [
    {
     "name": "stdout",
     "output_type": "stream",
     "text": [
      "[(1, 'Clubs'), (2, 'Clubs'), (6, 'Clubs'), (10, 'Clubs'), (1, 'Diamonds'), (6, 'Diamonds'), (8, 'Diamonds'), (12, 'Diamonds'), (9, 'Hearts'), (3, 'Spades'), (4, 'Spades'), (6, 'Spades'), (10, 'Spades')]\n",
      "\n",
      "[(1, 'Clubs'), (2, 'Clubs'), (6, 'Clubs'), (10, 'Clubs'), (1, 'Diamonds'), (6, 'Diamonds'), (8, 'Diamonds'), (12, 'Diamonds'), (9, 'Hearts'), (3, 'Spades'), (4, 'Spades'), (6, 'Spades'), (10, 'Spades')]\n"
     ]
    }
   ],
   "source": [
    "import random\n",
    "from operator import itemgetter\n",
    "suits = ['Hearts','Diamonds','Clubs','Spades']\n",
    "values = [i for i in range(1,14)]\n",
    "deck = []\n",
    "for suit in suits:\n",
    "    for value in values:\n",
    "        deck.append((value,suit))\n",
    "        \n",
    "random.shuffle(deck)\n",
    "print(sorted(sorted(deck[0:13], key = lambda card: card[0]), key = lambda card: card[1]))\n",
    "print('')\n",
    "print(sorted(deck[0:13], key = itemgetter(1,0)))"
   ]
  },
  {
   "cell_type": "markdown",
   "metadata": {},
   "source": [
    "### Exercise 3 — Letter Counts\n",
    "\n",
    "Write a function count_chars that takes a string as input, and counts the number of times each character appears in the string. Case should be ignored, so that both A and a count as the same letter. The resulting counts should be returned as a dictionary.\\\n",
    "\n",
    "Hint 1: Case can be ignored by converting the input to lowercase before analyzing it.\\\n",
    "\n",
    "Hint 2: You can loop over the characters of a string\\\n",
    "\n",
    "Test your function using the following test-block:\n"
   ]
  },
  {
   "cell_type": "code",
   "execution_count": 8,
   "metadata": {
    "tags": []
   },
   "outputs": [
    {
     "name": "stdout",
     "output_type": "stream",
     "text": [
      "{'H': 1, 'e': 1, 'l': 2, 'o': 1}\n"
     ]
    }
   ],
   "source": [
    "def count_chars(string):\n",
    "    string.lower()\n",
    "    dic = {}\n",
    "    for s in string:\n",
    "        if s in dic:\n",
    "            dic.update({s: dic[s]+1})\n",
    "        else:\n",
    "            dic[s] = 1 \n",
    "    return dic"
   ]
  },
  {
   "cell_type": "code",
   "execution_count": 9,
   "metadata": {},
   "outputs": [
    {
     "name": "stdout",
     "output_type": "stream",
     "text": [
      "H           1\n",
      "e           1\n",
      "l           3\n",
      "o           2\n",
      ",           1\n",
      "            1\n",
      "w           1\n",
      "r           1\n",
      "d           1\n",
      "!           1\n"
     ]
    }
   ],
   "source": [
    "example = \"Hello, world!\"\n",
    "for char, count in count_chars(example).items():\n",
    "    print(f'{char:3}{count:10}')"
   ]
  },
  {
   "cell_type": "markdown",
   "metadata": {},
   "source": [
    "### Exercise 4 — Factorizing a number\n",
    "Write a function factorize that takes in an integer , and returns the prime-factorization of that number as a list. For example factorize(18) should return [2, 3, 3] and factorize(23) should return [23], because 23 is a prime."
   ]
  },
  {
   "cell_type": "code",
   "execution_count": 50,
   "metadata": {},
   "outputs": [],
   "source": [
    "def factorize(num):\n",
    "    factors = []\n",
    "    while num > 1:\n",
    "        for i in range(2,num+1):\n",
    "            if num % i == 0:\n",
    "                factors.append(i)\n",
    "                num = num // i\n",
    "                break\n",
    "    return factors"
   ]
  },
  {
   "cell_type": "code",
   "execution_count": 51,
   "metadata": {},
   "outputs": [],
   "source": [
    "def test_factorize():\n",
    "    assert factorize(412415) == [5, 82483]\n",
    "    assert factorize(27) == [3,3,3]\n",
    "    assert factorize(31) == [31]\n",
    "    \n",
    "test_factorize()  # uncomment this line when testing your code\n"
   ]
  },
  {
   "cell_type": "markdown",
   "metadata": {},
   "source": [
    "### Exercise 5 — Name Scores\n",
    "Using names.txt (right click and ‘Save Link/Target As…’), a 46K text file containing over five-thousand first names, begin by sorting it into alphabetical order. Then working out the alphabetical value for each name, multiply this value by its alphabetical position in the list to obtain a name score.\n",
    "\n",
    "For example, when the list is sorted into alphabetical order, COLIN, which is worth 3 + 15 + 12 + 9 + 14 = 53, is the 938th name in the list. So, COLIN would obtain a score of 938 × 53 = 49714.\n",
    "\n",
    "What is the total of all the name scores in the file?\n",
    "\n",
    "Hint: By “alphabetical value” they mean the sum of the characters in the name, if each character is converted into its position in the alphabet, so A=1, B=2, etc."
   ]
  },
  {
   "cell_type": "code",
   "execution_count": 43,
   "metadata": {
    "tags": []
   },
   "outputs": [
    {
     "name": "stdout",
     "output_type": "stream",
     "text": [
      "870873746\n",
      "53\n",
      "49714\n",
      "937\n"
     ]
    }
   ],
   "source": [
    "import string\n",
    "with open('p022_names.txt', 'r') as file:\n",
    "    score = 0\n",
    "    f = file.read()\n",
    "    name_list = sorted(f.split(','))\n",
    "    letter_list = list(string.ascii_uppercase)\n",
    "    number_list = [i for i in range(1,27)]\n",
    "    dic = dict(zip(letter_list, number_list))\n",
    "    for name in name_list:\n",
    "        temp_sum = 0\n",
    "        for letter in name[1:-1]:\n",
    "            temp_sum += dic[letter]\n",
    "        score += temp_sum * name_list.index(name)\n",
    "    print(score)\n",
    "    \n",
    "    temp_sum = 0\n",
    "    for letter in 'COLIN':\n",
    "        temp_sum += dic[letter]\n",
    "    print(temp_sum)\n",
    "    score = temp_sum * (name_list.index('\"COLIN\"') + 1)\n",
    "    print(score)\n",
    "    print(name_list.index('\"COLIN\"'))"
   ]
  },
  {
   "cell_type": "markdown",
   "metadata": {},
   "source": [
    "# Week 35"
   ]
  },
  {
   "cell_type": "code",
   "execution_count": null,
   "metadata": {},
   "outputs": [],
   "source": []
  }
 ],
 "metadata": {
  "kernelspec": {
   "display_name": "Python 3",
   "language": "python",
   "name": "python3"
  },
  "language_info": {
   "codemirror_mode": {
    "name": "ipython",
    "version": 3
   },
   "file_extension": ".py",
   "mimetype": "text/x-python",
   "name": "python",
   "nbconvert_exporter": "python",
   "pygments_lexer": "ipython3",
   "version": "3.8.3"
  }
 },
 "nbformat": 4,
 "nbformat_minor": 4
}
